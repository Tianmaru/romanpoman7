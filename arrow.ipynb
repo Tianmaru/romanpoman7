{
 "cells": [
  {
   "cell_type": "markdown",
   "id": "9118da7d",
   "metadata": {},
   "source": [
    "# Arrow Exercise"
   ]
  },
  {
   "cell_type": "code",
   "execution_count": 6,
   "id": "c36c8669",
   "metadata": {},
   "outputs": [
    {
     "data": {
      "image/png": "[encoded data removed]",
      "text/plain": [
       "<Figure size 432x288 with 1 Axes>"
      ]
     },
     "metadata": {
      "needs_background": "light"
     },
     "output_type": "display_data"
    }
   ],
   "source": [
    "import matplotlib.pyplot as plt\n",
    "import numpy as np \n",
    "\n",
    "# gravitational acceleration\n",
    "g = 9.81\n",
    "\n",
    "# initial velocity of our arrow in x and y direction\n",
    "v = np.array([10, 10])\n",
    "\n",
    "# values for our simulated time t\n",
    "t = np.linspace(0, 10, 101)\n",
    "\n",
    "# no acceleration on the x-axis\n",
    "x = t * v[0]\n",
    "\n",
    "# uniform acceleration on the y-axis\n",
    "y = t * v[1] - g * np.power(t,2) / 2.0\n",
    "\n",
    "# show the trajectory of the arrow\n",
    "plt.plot(x, y)\n",
    "plt.title(\"Arrow Trajectory\")\n",
    "\n",
    "# limit the view to the floor\n",
    "plt.ylim(bottom=0)\n",
    "plt.show()"
   ]
  },
  {
   "cell_type": "code",
   "execution_count": null,
   "id": "4da9f654",
   "metadata": {},
   "outputs": [],
   "source": []
  }
 ],
 "metadata": {
  "kernelspec": {
   "display_name": "Python 3 (ipykernel)",
   "language": "python",
   "name": "python3"
  },
  "language_info": {
   "codemirror_mode": {
    "name": "ipython",
    "version": 3
   },
   "file_extension": ".py",
   "mimetype": "text/x-python",
   "name": "python",
   "nbconvert_exporter": "python",
   "pygments_lexer": "ipython3",
   "version": "3.9.2"
  }
 },
 "nbformat": 4,
 "nbformat_minor": 5
}
